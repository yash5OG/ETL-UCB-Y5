{
 "cells": [
  {
   "cell_type": "markdown",
   "id": "excellent-print",
   "metadata": {},
   "source": [
    "# Youtube Comments and Captions"
   ]
  },
  {
   "cell_type": "code",
   "execution_count": 2,
   "id": "eastern-vaccine",
   "metadata": {},
   "outputs": [
    {
     "name": "stdout",
     "output_type": "stream",
     "text": [
      "Collecting youtube_comment_scraper\n",
      "  Downloading youtube-comment-scraper-1.2.1.tar.gz (2.8 kB)\n",
      "Requirement already satisfied: requests in c:\\users\\ystil\\anaconda3\\lib\\site-packages (from youtube_comment_scraper) (2.25.1)\n",
      "Collecting datakund\n",
      "  Downloading datakund-1.4.8.tar.gz (29.4 MB)\n",
      "Requirement already satisfied: tqdm in c:\\users\\ystil\\anaconda3\\lib\\site-packages (from datakund->youtube_comment_scraper) (4.55.1)\n",
      "Requirement already satisfied: certifi>=2017.4.17 in c:\\users\\ystil\\anaconda3\\lib\\site-packages (from requests->youtube_comment_scraper) (2020.12.5)\n",
      "Requirement already satisfied: urllib3<1.27,>=1.21.1 in c:\\users\\ystil\\anaconda3\\lib\\site-packages (from requests->youtube_comment_scraper) (1.26.2)\n",
      "Requirement already satisfied: chardet<5,>=3.0.2 in c:\\users\\ystil\\anaconda3\\lib\\site-packages (from requests->youtube_comment_scraper) (4.0.0)\n",
      "Requirement already satisfied: idna<3,>=2.5 in c:\\users\\ystil\\anaconda3\\lib\\site-packages (from requests->youtube_comment_scraper) (2.10)\n",
      "Building wheels for collected packages: youtube-comment-scraper, datakund\n",
      "  Building wheel for youtube-comment-scraper (setup.py): started\n",
      "  Building wheel for youtube-comment-scraper (setup.py): finished with status 'done'\n",
      "  Created wheel for youtube-comment-scraper: filename=youtube_comment_scraper-1.2.1-py3-none-any.whl size=2322 sha256=9db329b9e90b46898d97a1505a3061bf044f3eb94b061e91e3be4cb724455b71\n",
      "  Stored in directory: c:\\users\\ystil\\appdata\\local\\pip\\cache\\wheels\\f1\\c6\\98\\d87358275eea1919fe4041c3a5cc5f38cc67c0af3027cda075Note: you may need to restart the kernel to use updated packages.\n",
      "\n",
      "  Building wheel for datakund (setup.py): started\n",
      "  Building wheel for datakund (setup.py): finished with status 'done'\n",
      "  Created wheel for datakund: filename=datakund-1.4.8-py3-none-any.whl size=29353120 sha256=adf65d3e919e482e512cd22536072787c50ed0c334eedfa1d086b203cf4ce97b\n",
      "  Stored in directory: c:\\users\\ystil\\appdata\\local\\pip\\cache\\wheels\\a0\\eb\\5c\\71a77732d0405104aae53fa05017c9607f0ebc32cb410eeff7\n",
      "Successfully built youtube-comment-scraper datakund\n",
      "Installing collected packages: datakund, youtube-comment-scraper\n",
      "Successfully installed datakund-1.4.8 youtube-comment-scraper-1.2.1\n"
     ]
    }
   ],
   "source": [
    "%pip install youtube_comment_scraper"
   ]
  },
  {
   "cell_type": "code",
   "execution_count": 21,
   "id": "liberal-software",
   "metadata": {},
   "outputs": [
    {
     "name": "stdout",
     "output_type": "stream",
     "text": [
      "Collecting youtube_dl\n",
      "  Downloading youtube_dl-2021.3.14-py2.py3-none-any.whl (1.9 MB)\n",
      "Installing collected packages: youtube-dl\n",
      "Successfully installed youtube-dl-2021.3.14\n",
      "Note: you may need to restart the kernel to use updated packages.\n"
     ]
    }
   ],
   "source": [
    "%pip install youtube_dl"
   ]
  },
  {
   "cell_type": "code",
   "execution_count": 1,
   "id": "correct-layer",
   "metadata": {},
   "outputs": [],
   "source": [
    "from youtube_comment_scraper import *"
   ]
  },
  {
   "cell_type": "code",
   "execution_count": 2,
   "id": "fundamental-benefit",
   "metadata": {},
   "outputs": [],
   "source": [
    "import pandas as pd"
   ]
  },
  {
   "cell_type": "code",
   "execution_count": null,
   "id": "gorgeous-nicholas",
   "metadata": {},
   "outputs": [],
   "source": []
  },
  {
   "cell_type": "code",
   "execution_count": 3,
   "id": "religious-balloon",
   "metadata": {},
   "outputs": [
    {
     "name": "stderr",
     "output_type": "stream",
     "text": [
      "Progress: 100%|████████████████████████████████████████████████████████████████████| 200.0/200 [00:08<00:00, 24.82it/s]\n"
     ]
    }
   ],
   "source": [
    "youtube.open(\"https://www.youtube.com/watch?v=cw7FzcqRXqE&ab\")\n",
    "response=youtube.video_comments()\n",
    "data=response['body']\n",
    "# #data=[{\"Comment\": \"This planet belongs to all of us \", \"UserLink\": \"https://www.youtube.com/channel/UCpH24tSZnFGAECI_ZCa7jJQ\", \"user\": \"\n",
    "# Mohd Haris\", \"Time\": \"14 hours ago\", \"Likes\": \"23\"}]"
   ]
  },
  {
   "cell_type": "code",
   "execution_count": 4,
   "id": "statutory-tribe",
   "metadata": {},
   "outputs": [
    {
     "data": {
      "text/plain": [
       "12"
      ]
     },
     "execution_count": 4,
     "metadata": {},
     "output_type": "execute_result"
    }
   ],
   "source": [
    "len(data)"
   ]
  },
  {
   "cell_type": "code",
   "execution_count": 5,
   "id": "critical-relaxation",
   "metadata": {},
   "outputs": [],
   "source": [
    "df = pd.DataFrame(data)"
   ]
  },
  {
   "cell_type": "code",
   "execution_count": 6,
   "id": "activated-robinson",
   "metadata": {},
   "outputs": [
    {
     "data": {
      "text/html": [
       "<div>\n",
       "<style scoped>\n",
       "    .dataframe tbody tr th:only-of-type {\n",
       "        vertical-align: middle;\n",
       "    }\n",
       "\n",
       "    .dataframe tbody tr th {\n",
       "        vertical-align: top;\n",
       "    }\n",
       "\n",
       "    .dataframe thead th {\n",
       "        text-align: right;\n",
       "    }\n",
       "</style>\n",
       "<table border=\"1\" class=\"dataframe\">\n",
       "  <thead>\n",
       "    <tr style=\"text-align: right;\">\n",
       "      <th></th>\n",
       "      <th>Comment</th>\n",
       "      <th>Likes</th>\n",
       "      <th>Time</th>\n",
       "      <th>UserLink</th>\n",
       "      <th>user</th>\n",
       "    </tr>\n",
       "  </thead>\n",
       "  <tbody>\n",
       "    <tr>\n",
       "      <th>0</th>\n",
       "      <td>This is brilliant. Thanks for creating this!</td>\n",
       "      <td>\\n    1\\n</td>\n",
       "      <td>5 years ago</td>\n",
       "      <td>/channel/UCM98sBL6cvnxa7tPGJ0rsLw</td>\n",
       "      <td>\\n              R Christian Anderson\\n        ...</td>\n",
       "    </tr>\n",
       "    <tr>\n",
       "      <th>1</th>\n",
       "      <td>You really knocked it out of the park with thi...</td>\n",
       "      <td>\\n    0\\n</td>\n",
       "      <td>1 week ago</td>\n",
       "      <td>/channel/UC8lhdtoC95l8HWB04Z4-zNA</td>\n",
       "      <td>\\n              aaron arnold\\n</td>\n",
       "    </tr>\n",
       "    <tr>\n",
       "      <th>2</th>\n",
       "      <td>I like the new City Hall and it's surrounding ...</td>\n",
       "      <td>\\n    0\\n</td>\n",
       "      <td>1 month ago</td>\n",
       "      <td>/channel/UCKkXfitA0TcQ5hru-nz6u8g</td>\n",
       "      <td>\\n              SymphonyBrahms\\n</td>\n",
       "    </tr>\n",
       "    <tr>\n",
       "      <th>3</th>\n",
       "      <td>Thank you very much for sharing this. Some of ...</td>\n",
       "      <td>\\n    1\\n</td>\n",
       "      <td>5 months ago</td>\n",
       "      <td>/channel/UCtjHA6A6Bfncik5fVehxZzg</td>\n",
       "      <td>\\n              money penni1\\n</td>\n",
       "    </tr>\n",
       "    <tr>\n",
       "      <th>4</th>\n",
       "      <td>The new city hall today is much prettier than ...</td>\n",
       "      <td>\\n    1\\n</td>\n",
       "      <td>5 years ago</td>\n",
       "      <td>/channel/UC6ZUotW3ZC8LXS4rcVBPK8A</td>\n",
       "      <td>\\n              Jeffrey Tong\\n</td>\n",
       "    </tr>\n",
       "    <tr>\n",
       "      <th>5</th>\n",
       "      <td>This is fabulous stuff, a knowledgeable and in...</td>\n",
       "      <td>\\n    0\\n</td>\n",
       "      <td>5 years ago</td>\n",
       "      <td>/channel/UCI98G0mfbEe2GLtSNgM-yWw</td>\n",
       "      <td>\\n              James Dalessandro\\n</td>\n",
       "    </tr>\n",
       "    <tr>\n",
       "      <th>6</th>\n",
       "      <td>What an interesting account not only of the bu...</td>\n",
       "      <td>\\n    0\\n</td>\n",
       "      <td>1 month ago</td>\n",
       "      <td>/channel/UCitKcQsIr9QecKV0EPxm8CQ</td>\n",
       "      <td>\\n              William Zavlaris\\n</td>\n",
       "    </tr>\n",
       "    <tr>\n",
       "      <th>7</th>\n",
       "      <td>Wow! that was incredible.</td>\n",
       "      <td>\\n    1\\n</td>\n",
       "      <td>5 months ago</td>\n",
       "      <td>/channel/UCjN_eTWHBx9YhhUo4CZn0Qg</td>\n",
       "      <td>\\n              Breno Gomes\\n</td>\n",
       "    </tr>\n",
       "    <tr>\n",
       "      <th>8</th>\n",
       "      <td>A absolutely brilliant video.  thanks</td>\n",
       "      <td>\\n    1\\n</td>\n",
       "      <td>9 months ago</td>\n",
       "      <td>/channel/UC9dj_NxxF4g3wzeWTQxzl4A</td>\n",
       "      <td>\\n              Skyrocketcoast\\n</td>\n",
       "    </tr>\n",
       "    <tr>\n",
       "      <th>9</th>\n",
       "      <td>great video!!\\none question: do you know what ...</td>\n",
       "      <td>\\n    0\\n</td>\n",
       "      <td>3 years ago</td>\n",
       "      <td>/channel/UCSnrzdAJt_1bp9oovuMnRTQ</td>\n",
       "      <td>\\n              Cristobal Fernandez\\n</td>\n",
       "    </tr>\n",
       "    <tr>\n",
       "      <th>10</th>\n",
       "      <td>I think the abundant open space in the center ...</td>\n",
       "      <td>\\n    1\\n</td>\n",
       "      <td>1 year ago</td>\n",
       "      <td>/channel/UCzEsQMHVKfk4RItDFBb9LXg</td>\n",
       "      <td>\\n              Jia Hong Situ\\n</td>\n",
       "    </tr>\n",
       "    <tr>\n",
       "      <th>11</th>\n",
       "      <td>Whatever became of the statue atop the dome? I...</td>\n",
       "      <td>\\n    0\\n</td>\n",
       "      <td>1 month ago</td>\n",
       "      <td>/channel/UCuwASiwKIEE-42zmBdxdATg</td>\n",
       "      <td>\\n              Jerry Fisher\\n</td>\n",
       "    </tr>\n",
       "  </tbody>\n",
       "</table>\n",
       "</div>"
      ],
      "text/plain": [
       "                                              Comment        Likes  \\\n",
       "0        This is brilliant. Thanks for creating this!  \\n    1\\n     \n",
       "1   You really knocked it out of the park with thi...  \\n    0\\n     \n",
       "2   I like the new City Hall and it's surrounding ...  \\n    0\\n     \n",
       "3   Thank you very much for sharing this. Some of ...  \\n    1\\n     \n",
       "4   The new city hall today is much prettier than ...  \\n    1\\n     \n",
       "5   This is fabulous stuff, a knowledgeable and in...  \\n    0\\n     \n",
       "6   What an interesting account not only of the bu...  \\n    0\\n     \n",
       "7                           Wow! that was incredible.  \\n    1\\n     \n",
       "8               A absolutely brilliant video.  thanks  \\n    1\\n     \n",
       "9   great video!!\\none question: do you know what ...  \\n    0\\n     \n",
       "10  I think the abundant open space in the center ...  \\n    1\\n     \n",
       "11  Whatever became of the statue atop the dome? I...  \\n    0\\n     \n",
       "\n",
       "            Time                           UserLink  \\\n",
       "0    5 years ago  /channel/UCM98sBL6cvnxa7tPGJ0rsLw   \n",
       "1     1 week ago  /channel/UC8lhdtoC95l8HWB04Z4-zNA   \n",
       "2    1 month ago  /channel/UCKkXfitA0TcQ5hru-nz6u8g   \n",
       "3   5 months ago  /channel/UCtjHA6A6Bfncik5fVehxZzg   \n",
       "4    5 years ago  /channel/UC6ZUotW3ZC8LXS4rcVBPK8A   \n",
       "5    5 years ago  /channel/UCI98G0mfbEe2GLtSNgM-yWw   \n",
       "6    1 month ago  /channel/UCitKcQsIr9QecKV0EPxm8CQ   \n",
       "7   5 months ago  /channel/UCjN_eTWHBx9YhhUo4CZn0Qg   \n",
       "8   9 months ago  /channel/UC9dj_NxxF4g3wzeWTQxzl4A   \n",
       "9    3 years ago  /channel/UCSnrzdAJt_1bp9oovuMnRTQ   \n",
       "10    1 year ago  /channel/UCzEsQMHVKfk4RItDFBb9LXg   \n",
       "11   1 month ago  /channel/UCuwASiwKIEE-42zmBdxdATg   \n",
       "\n",
       "                                                 user  \n",
       "0   \\n              R Christian Anderson\\n        ...  \n",
       "1          \\n              aaron arnold\\n              \n",
       "2        \\n              SymphonyBrahms\\n              \n",
       "3          \\n              money penni1\\n              \n",
       "4          \\n              Jeffrey Tong\\n              \n",
       "5     \\n              James Dalessandro\\n              \n",
       "6      \\n              William Zavlaris\\n              \n",
       "7           \\n              Breno Gomes\\n              \n",
       "8        \\n              Skyrocketcoast\\n              \n",
       "9   \\n              Cristobal Fernandez\\n              \n",
       "10        \\n              Jia Hong Situ\\n              \n",
       "11         \\n              Jerry Fisher\\n              "
      ]
     },
     "execution_count": 6,
     "metadata": {},
     "output_type": "execute_result"
    }
   ],
   "source": [
    "df"
   ]
  },
  {
   "cell_type": "code",
   "execution_count": 13,
   "id": "fluid-pantyhose",
   "metadata": {},
   "outputs": [
    {
     "name": "stderr",
     "output_type": "stream",
     "text": [
      "Progress:   0%|                                                                                | 0/200 [00:00<?, ?it/s]"
     ]
    },
    {
     "data": {
      "text/plain": [
       "{'body': {}, 'errors': ['Function not found'], 'success_score': '0'}"
      ]
     },
     "execution_count": 13,
     "metadata": {},
     "output_type": "execute_result"
    },
    {
     "name": "stderr",
     "output_type": "stream",
     "text": [
      "Progress: 100%|██████████████████████████████████████████████████████████████████████| 200/200 [00:06<00:00, 33.26it/s]\n"
     ]
    }
   ],
   "source": [
    "youtube.close()"
   ]
  },
  {
   "cell_type": "code",
   "execution_count": 14,
   "id": "south-silicon",
   "metadata": {
    "collapsed": true,
    "jupyter": {
     "outputs_hidden": true
    }
   },
   "outputs": [
    {
     "data": {
      "text/plain": [
       "[{'Comment': 'I gave your girl the Django. The jango is silent',\n",
       "  'Likes': '\\n    2.2K\\n  ',\n",
       "  'Time': '5 years ago',\n",
       "  'UserLink': '/channel/UCKs08jwQ4JddGN9VPtlayeg',\n",
       "  'user': '\\n              Dan K\\n            '},\n",
       " {'Comment': \"Leanardo DiCaprio took your wife, AND HE WON'T RELEASE HER UNTIL YOU GIVE HIM AN OSCAR!\",\n",
       "  'Likes': '\\n    2.3K\\n  ',\n",
       "  'Time': '5 years ago',\n",
       "  'UserLink': '/channel/UCLiKqPmeL14ql1EcilZX9eQ',\n",
       "  'user': '\\n              ZXTMA Smith\\n            '},\n",
       " {'Comment': 'Cristoph Walts is one badass actor.',\n",
       "  'Likes': '\\n    1.3K\\n  ',\n",
       "  'Time': '5 years ago',\n",
       "  'UserLink': '/channel/UCPQqrtRhRQqPHyj1Ni1X7ow',\n",
       "  'user': '\\n              Silemani\\n            '},\n",
       " {'Comment': 'Same song with logan trailer.\\nJust sayin :()',\n",
       "  'Likes': '\\n    1\\n  ',\n",
       "  'Time': '4 years ago',\n",
       "  'UserLink': '/channel/UCNZODf8V4fh9P4KQAxd9f_Q',\n",
       "  'user': '\\n              Wesley Huang\\n            '},\n",
       " {'Comment': \"I seriously think this is Tarrantino's best film. It's a masterpiece from whichever angle you look at it.\",\n",
       "  'Likes': '\\n    750\\n  ',\n",
       "  'Time': '4 years ago',\n",
       "  'UserLink': '/channel/UCznO5-A8R0-k6M-wTa-6gbw',\n",
       "  'user': '\\n              roloug95\\n            '},\n",
       " {'Comment': 'Anyone after the trailer for Once upon a time in Hollywood?',\n",
       "  'Likes': '\\n    636\\n  ',\n",
       "  'Time': '1 year ago',\n",
       "  'UserLink': '/channel/UCJK86DAznQGEyqWoC5mGzVA',\n",
       "  'user': '\\n              Alan George\\n            '},\n",
       " {'Comment': \"It's a movie, it's not racist. Characters can be racist, just as they can be murderer's, pyschopath's, rapists, sexist, etc. but they're characters, it's not real, it's just a story on a screen that's what films are, I don't see why people can see fiction as racist.\",\n",
       "  'Likes': '\\n    647\\n  ',\n",
       "  'Time': '6 years ago',\n",
       "  'UserLink': '/channel/UCY87z3ob2lTXXFSi-kmUkkg',\n",
       "  'user': '\\n              deanmullen10\\n            '},\n",
       " {'Comment': '\"I like the way you die boy\"\\n               -Django Freeman',\n",
       "  'Likes': '\\n    98\\n  ',\n",
       "  'Time': '7 years ago',\n",
       "  'UserLink': '/channel/UCtOfw7kZOdQpR93ieJ0i5WQ',\n",
       "  'user': '\\n              Alex\\n            '},\n",
       " {'Comment': 'I gave her the Django, the jango is silent.',\n",
       "  'Likes': '\\n    1.6K\\n  ',\n",
       "  'Time': '4 years ago',\n",
       "  'UserLink': '/channel/UCtz4nTSKdZJ_k9fo9lyf2Jw',\n",
       "  'user': '\\n              Paul Koenig\\n            '},\n",
       " {'Comment': 'The saddest part in this movie was when Dr. Schultz was shot. He was like the coolest white person ever and it broke my heart when he died.',\n",
       "  'Likes': '\\n    376\\n  ',\n",
       "  'Time': '6 years ago',\n",
       "  'UserLink': '/channel/UCICQZJ3uij_44Q-gh408elg',\n",
       "  'user': '\\n              Lemon Marie\\n            '},\n",
       " {'Comment': \"By far the best film of the past 6 years, in my opinion. Quentin Tarantino's second best, after Pulp Fiction.\",\n",
       "  'Likes': '\\n    248\\n  ',\n",
       "  'Time': '4 years ago',\n",
       "  'UserLink': '/channel/UCyfOjEleWdpRG5u_mYHWi3Q',\n",
       "  'user': '\\n              Ryan Cox\\n            '},\n",
       " {'Comment': 'That kkk part was kind of funny.\\xa0',\n",
       "  'Likes': '\\n    374\\n  ',\n",
       "  'Time': '6 years ago',\n",
       "  'UserLink': '/channel/UCICQZJ3uij_44Q-gh408elg',\n",
       "  'user': '\\n              Lemon Marie\\n            '},\n",
       " {'Comment': 'I remember watching this movie and how much i hated Stephen the racist servant and later on i found out he was Samuel Jackson, mind blown, S.L.J can play any role at his best. Really Great Movie.',\n",
       "  'Likes': '\\n    393\\n  ',\n",
       "  'Time': '6 years ago',\n",
       "  'UserLink': '/channel/UCldm4JRPX4Ui6-YRei1hfZA',\n",
       "  'user': '\\n              TheIrbe\\n            '},\n",
       " {'Comment': 'This movies is fucking gory has a great story and its fucking hilarious and I like it.',\n",
       "  'Likes': '\\n    16\\n  ',\n",
       "  'Time': '7 years ago',\n",
       "  'UserLink': '/channel/UCwgKTXfaPORipCyQLviUK4A',\n",
       "  'user': '\\n              Gustavo M\\n            '},\n",
       " {'Comment': 'Can we talk about how surprised Calvin was when he learned that Dumas was of African descent?',\n",
       "  'Likes': '\\n    70\\n  ',\n",
       "  'Time': '5 years ago',\n",
       "  'UserLink': '/channel/UCuBaU0LTTY1JNf6VtOrdX3w',\n",
       "  'user': '\\n              ellie\\n            '},\n",
       " {'Comment': 'What do you call a black bounty hunter? Django Fett.',\n",
       "  'Likes': '\\n    87\\n  ',\n",
       "  'Time': '4 years ago',\n",
       "  'UserLink': '/channel/UCUrQLH4cPqPxHZoEtXApfCQ',\n",
       "  'user': '\\n              TheMarshmelloKing\\n            '},\n",
       " {'Comment': \"This is not only the best western I've seen in a long time but this is my favorite Tarantino movie since Pulp Fiction.\",\n",
       "  'Likes': '\\n    89\\n  ',\n",
       "  'Time': '7 years ago',\n",
       "  'UserLink': '/channel/UC_KMmWEznsI3hZTmcgwMKZQ',\n",
       "  'user': '\\n              SpikeJet2736\\n            '},\n",
       " {'Comment': 'Django Unchained\\n12 Years A Slave\\nWolf Of Wallstreet\\n\\nMust watch movies',\n",
       "  'Likes': '\\n    37\\n  ',\n",
       "  'Time': '6 years ago',\n",
       "  'UserLink': '/channel/UCQEenjhrkZZOdrQdgI9W1lg',\n",
       "  'user': '\\n              Nicholas Nore\\n            '},\n",
       " {'Comment': 'django=bounty hunter\\njango fett=bounty hunter………………..wut',\n",
       "  'Likes': '\\n    187\\n  ',\n",
       "  'Time': '6 years ago',\n",
       "  'UserLink': '/channel/UCuPl8SxQyizIEPgS-_zSGhA',\n",
       "  'user': '\\n              Lucas Strunc\\n            '},\n",
       " {'Comment': 'Great film up until the German dude died .',\n",
       "  'Likes': '\\n    307\\n  ',\n",
       "  'Time': '7 years ago',\n",
       "  'UserLink': '/channel/UCTZ7Cwg39ieQlvJVhcJAaxQ',\n",
       "  'user': '\\n              Gherbi Hicham\\n            '}]"
      ]
     },
     "execution_count": 14,
     "metadata": {},
     "output_type": "execute_result"
    }
   ],
   "source": [
    "data"
   ]
  },
  {
   "cell_type": "code",
   "execution_count": 7,
   "id": "amateur-means",
   "metadata": {},
   "outputs": [
    {
     "name": "stderr",
     "output_type": "stream",
     "text": [
      "Progress: 100%|██████████████████████████████████████████████████████████████████████| 200/200 [00:04<00:00, 49.61it/s]\n"
     ]
    }
   ],
   "source": [
    "replies = youtube.get_comment_replies()"
   ]
  },
  {
   "cell_type": "code",
   "execution_count": 10,
   "id": "living-demand",
   "metadata": {},
   "outputs": [],
   "source": [
    "dfr = pd.DataFrame.from_dict(replies, orient='index')"
   ]
  },
  {
   "cell_type": "code",
   "execution_count": 12,
   "id": "appointed-disco",
   "metadata": {},
   "outputs": [],
   "source": [
    "dfr = dfr.transpose()"
   ]
  },
  {
   "cell_type": "code",
   "execution_count": 19,
   "id": "higher-ladder",
   "metadata": {},
   "outputs": [
    {
     "data": {
      "text/plain": [
       "{'replytext': '\\n\\nThank you very much for sharing this. Some of the pictures are astounding, the historical narrative, when seen from a different view is quite telling.\\n',\n",
       " 'user': '\\n\\n              money penni1\\n            \\n',\n",
       " 'userlink': '/channel/UCtjHA6A6Bfncik5fVehxZzg'}"
      ]
     },
     "execution_count": 19,
     "metadata": {},
     "output_type": "execute_result"
    }
   ],
   "source": [
    "dfr['body'][3]"
   ]
  },
  {
   "cell_type": "code",
   "execution_count": null,
   "id": "handy-yellow",
   "metadata": {},
   "outputs": [],
   "source": []
  },
  {
   "cell_type": "markdown",
   "id": "operating-steps",
   "metadata": {},
   "source": [
    "# captions"
   ]
  },
  {
   "cell_type": "code",
   "execution_count": null,
   "id": "controlled-contamination",
   "metadata": {},
   "outputs": [],
   "source": [
    "https://www.youtube.com/watch?v=4vlM8vr5Aco&ab"
   ]
  },
  {
   "cell_type": "code",
   "execution_count": 2,
   "id": "confidential-bahamas",
   "metadata": {},
   "outputs": [],
   "source": [
    "import youtube_dl"
   ]
  },
  {
   "cell_type": "code",
   "execution_count": 11,
   "id": "uniform-china",
   "metadata": {},
   "outputs": [
    {
     "name": "stdout",
     "output_type": "stream",
     "text": [
      "[youtube] rtzCPSM0720: Downloading webpage\n",
      "[info] Writing video subtitles to: Emma Stone Sat Next to Brad Pitt and Angelina Jolie at Her First Golden Globes-rtzCPSM0720.en.vtt\n"
     ]
    }
   ],
   "source": [
    "def download_subs(url, lang=\"en\"):\n",
    "    opts = {\n",
    "        \"skip_download\": True,\n",
    "        \"writesubtitles\": \"%(name)s.vtt\",\n",
    "        \"subtitlelangs\": lang\n",
    "    }\n",
    "\n",
    "    with youtube_dl.YoutubeDL(opts) as yt:\n",
    "        yt.download([url])\n",
    "\n",
    "url = \"https://www.youtube.com/watch?v=rtzCPSM0720\"\n",
    "response =  download_subs(url)"
   ]
  },
  {
   "cell_type": "code",
   "execution_count": 12,
   "id": "collect-commander",
   "metadata": {},
   "outputs": [],
   "source": [
    "df = pd.read_vtt"
   ]
  }
 ],
 "metadata": {
  "kernelspec": {
   "display_name": "Python 3",
   "language": "python",
   "name": "python3"
  },
  "language_info": {
   "codemirror_mode": {
    "name": "ipython",
    "version": 3
   },
   "file_extension": ".py",
   "mimetype": "text/x-python",
   "name": "python",
   "nbconvert_exporter": "python",
   "pygments_lexer": "ipython3",
   "version": "3.8.5"
  }
 },
 "nbformat": 4,
 "nbformat_minor": 5
}
