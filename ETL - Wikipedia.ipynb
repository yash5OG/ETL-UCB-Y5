{
 "cells": [
  {
   "cell_type": "code",
   "execution_count": null,
   "id": "recovered-narrative",
   "metadata": {},
   "outputs": [],
   "source": [
    "https://en.wikipedia.org/wiki/Academy_Award_for_Best_Actress"
   ]
  }
 ],
 "metadata": {
  "kernelspec": {
   "display_name": "Python 3",
   "language": "python",
   "name": "python3"
  },
  "language_info": {
   "codemirror_mode": {
    "name": "ipython",
    "version": 3
   },
   "file_extension": ".py",
   "mimetype": "text/x-python",
   "name": "python",
   "nbconvert_exporter": "python",
   "pygments_lexer": "ipython3",
   "version": "3.8.5"
  }
 },
 "nbformat": 4,
 "nbformat_minor": 5
}
